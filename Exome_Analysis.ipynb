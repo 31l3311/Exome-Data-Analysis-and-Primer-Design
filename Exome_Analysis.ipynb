{
 "cells": [
  {
   "cell_type": "markdown",
   "metadata": {},
   "source": [
    "# Exome Analysis and Primer Design\n",
    "##### Author: Kim Roggenbuck"
   ]
  },
  {
   "cell_type": "code",
   "execution_count": 1,
   "metadata": {},
   "outputs": [],
   "source": [
    "import numpy as np\n",
    "import matplotlib.pyplot as plt\n",
    "import pandas as pd, sys\n",
    "import seaborn as sns"
   ]
  },
  {
   "cell_type": "code",
   "execution_count": 2,
   "metadata": {},
   "outputs": [
    {
     "name": "stdout",
     "output_type": "stream",
     "text": [
      "There are 67654 rows to start with.\n"
     ]
    }
   ],
   "source": [
    "#Read the data into a dataframe\n",
    "df = pd.read_csv(\"Variants.csv\", delimiter=';')\n",
    "print('There are', len(df.index), 'rows to start with.')"
   ]
  },
  {
   "cell_type": "code",
   "execution_count": 3,
   "metadata": {
    "scrolled": true
   },
   "outputs": [
    {
     "name": "stdout",
     "output_type": "stream",
     "text": [
      "There are 2789 rows left at this step.\n"
     ]
    },
    {
     "data": {
      "text/html": [
       "<div>\n",
       "<style scoped>\n",
       "    .dataframe tbody tr th:only-of-type {\n",
       "        vertical-align: middle;\n",
       "    }\n",
       "\n",
       "    .dataframe tbody tr th {\n",
       "        vertical-align: top;\n",
       "    }\n",
       "\n",
       "    .dataframe thead th {\n",
       "        text-align: right;\n",
       "    }\n",
       "</style>\n",
       "<table border=\"1\" class=\"dataframe\">\n",
       "  <thead>\n",
       "    <tr style=\"text-align: right;\">\n",
       "      <th></th>\n",
       "      <th>TYPE</th>\n",
       "      <th>CHROMOSOME</th>\n",
       "      <th>POS_START</th>\n",
       "      <th>POS_END</th>\n",
       "      <th>LENGTH</th>\n",
       "      <th>NUCL_REF</th>\n",
       "      <th>NUCL_ALT</th>\n",
       "      <th>ZYGOSITY</th>\n",
       "      <th>GENOTYPE</th>\n",
       "      <th>FREQ_ALT_DX32</th>\n",
       "      <th>REFGENE_GENE</th>\n",
       "      <th>REFGENE_TRANSCRIPT</th>\n",
       "      <th>REFGENE_LOC</th>\n",
       "      <th>REFGENE_CPOS</th>\n",
       "      <th>REFGENE_PPOS</th>\n",
       "      <th>DBSNP_NAME</th>\n",
       "      <th>DBSNP_FREQ_ALT</th>\n",
       "      <th>DBNSFP_ENSEMBL_PROTEIN</th>\n",
       "    </tr>\n",
       "  </thead>\n",
       "  <tbody>\n",
       "    <tr>\n",
       "      <td>0</td>\n",
       "      <td>V</td>\n",
       "      <td>chr1</td>\n",
       "      <td>762273</td>\n",
       "      <td>762273</td>\n",
       "      <td>1</td>\n",
       "      <td>G</td>\n",
       "      <td>A</td>\n",
       "      <td>heterozygous ref-alt1</td>\n",
       "      <td>G/A</td>\n",
       "      <td>0,857142857</td>\n",
       "      <td>LINC00115</td>\n",
       "      <td>NR_024321</td>\n",
       "      <td>3'UTR</td>\n",
       "      <td>NR_024321:c,*630C&gt;T</td>\n",
       "      <td>NaN</td>\n",
       "      <td>rs3115849</td>\n",
       "      <td>0,0027</td>\n",
       "      <td>NaN</td>\n",
       "    </tr>\n",
       "    <tr>\n",
       "      <td>1</td>\n",
       "      <td>V</td>\n",
       "      <td>chr1</td>\n",
       "      <td>866422</td>\n",
       "      <td>866422</td>\n",
       "      <td>1</td>\n",
       "      <td>C</td>\n",
       "      <td>T</td>\n",
       "      <td>heterozygous ref-alt1</td>\n",
       "      <td>C/T</td>\n",
       "      <td>NaN</td>\n",
       "      <td>SAMD11</td>\n",
       "      <td>NM_152486</td>\n",
       "      <td>exonic</td>\n",
       "      <td>NM_152486:c,258C&gt;T</td>\n",
       "      <td>86</td>\n",
       "      <td>rs139210662</td>\n",
       "      <td>0,0053</td>\n",
       "      <td>SAMD11:p,(S10F);SAMD11:p,(S10F);SAMD11:p,(S10F)</td>\n",
       "    </tr>\n",
       "    <tr>\n",
       "      <td>3</td>\n",
       "      <td>V</td>\n",
       "      <td>chr1</td>\n",
       "      <td>879276</td>\n",
       "      <td>879276</td>\n",
       "      <td>1</td>\n",
       "      <td>A</td>\n",
       "      <td>G</td>\n",
       "      <td>heterozygous ref-alt1</td>\n",
       "      <td>A/G</td>\n",
       "      <td>NaN</td>\n",
       "      <td>SAMD11</td>\n",
       "      <td>NM_152486</td>\n",
       "      <td>intronic</td>\n",
       "      <td>NM_152486:c,1801-12A&gt;G</td>\n",
       "      <td>NaN</td>\n",
       "      <td>rs115454328</td>\n",
       "      <td>0,0081</td>\n",
       "      <td>NaN</td>\n",
       "    </tr>\n",
       "    <tr>\n",
       "      <td>25</td>\n",
       "      <td>V</td>\n",
       "      <td>chr1</td>\n",
       "      <td>906302</td>\n",
       "      <td>906302</td>\n",
       "      <td>1</td>\n",
       "      <td>C</td>\n",
       "      <td>T</td>\n",
       "      <td>heterozygous ref-alt1</td>\n",
       "      <td>C/T</td>\n",
       "      <td>0,014705882</td>\n",
       "      <td>PLEKHN1</td>\n",
       "      <td>NM_032129;NM_001160184</td>\n",
       "      <td>exonic;exonic</td>\n",
       "      <td>NM_032129:c,528C&gt;T;NM_001160184:c,528C&gt;T</td>\n",
       "      <td>176;176</td>\n",
       "      <td>rs41300090</td>\n",
       "      <td>0,0039</td>\n",
       "      <td>NaN</td>\n",
       "    </tr>\n",
       "    <tr>\n",
       "      <td>32</td>\n",
       "      <td>V</td>\n",
       "      <td>chr1</td>\n",
       "      <td>910903</td>\n",
       "      <td>910903</td>\n",
       "      <td>1</td>\n",
       "      <td>T</td>\n",
       "      <td>C</td>\n",
       "      <td>heterozygous ref-alt1</td>\n",
       "      <td>T/C</td>\n",
       "      <td>1</td>\n",
       "      <td>C1orf170</td>\n",
       "      <td>NR_027693</td>\n",
       "      <td>3'UTR</td>\n",
       "      <td>NR_027693:c,*2716A&gt;G</td>\n",
       "      <td>NaN</td>\n",
       "      <td>rs4970429</td>\n",
       "      <td>0,0068</td>\n",
       "      <td>NaN</td>\n",
       "    </tr>\n",
       "  </tbody>\n",
       "</table>\n",
       "</div>"
      ],
      "text/plain": [
       "   TYPE CHROMOSOME  POS_START  POS_END  LENGTH NUCL_REF NUCL_ALT  \\\n",
       "0     V       chr1     762273   762273       1        G        A   \n",
       "1     V       chr1     866422   866422       1        C        T   \n",
       "3     V       chr1     879276   879276       1        A        G   \n",
       "25    V       chr1     906302   906302       1        C        T   \n",
       "32    V       chr1     910903   910903       1        T        C   \n",
       "\n",
       "                 ZYGOSITY GENOTYPE FREQ_ALT_DX32 REFGENE_GENE  \\\n",
       "0   heterozygous ref-alt1      G/A   0,857142857    LINC00115   \n",
       "1   heterozygous ref-alt1      C/T           NaN       SAMD11   \n",
       "3   heterozygous ref-alt1      A/G           NaN       SAMD11   \n",
       "25  heterozygous ref-alt1      C/T   0,014705882      PLEKHN1   \n",
       "32  heterozygous ref-alt1      T/C             1     C1orf170   \n",
       "\n",
       "        REFGENE_TRANSCRIPT    REFGENE_LOC  \\\n",
       "0                NR_024321          3'UTR   \n",
       "1                NM_152486         exonic   \n",
       "3                NM_152486       intronic   \n",
       "25  NM_032129;NM_001160184  exonic;exonic   \n",
       "32               NR_027693          3'UTR   \n",
       "\n",
       "                                REFGENE_CPOS REFGENE_PPOS   DBSNP_NAME  \\\n",
       "0                        NR_024321:c,*630C>T          NaN    rs3115849   \n",
       "1                         NM_152486:c,258C>T           86  rs139210662   \n",
       "3                     NM_152486:c,1801-12A>G          NaN  rs115454328   \n",
       "25  NM_032129:c,528C>T;NM_001160184:c,528C>T      176;176   rs41300090   \n",
       "32                      NR_027693:c,*2716A>G          NaN    rs4970429   \n",
       "\n",
       "   DBSNP_FREQ_ALT                           DBNSFP_ENSEMBL_PROTEIN  \n",
       "0          0,0027                                              NaN  \n",
       "1          0,0053  SAMD11:p,(S10F);SAMD11:p,(S10F);SAMD11:p,(S10F)  \n",
       "3          0,0081                                              NaN  \n",
       "25         0,0039                                              NaN  \n",
       "32         0,0068                                              NaN  "
      ]
     },
     "execution_count": 3,
     "metadata": {},
     "output_type": "execute_result"
    }
   ],
   "source": [
    "# STEP 1: filter out genetic changes with a frequency > 1%\n",
    "\n",
    "df = df.dropna(subset=['DBSNP_FREQ_ALT'])\n",
    "df2 = df[df['DBSNP_FREQ_ALT'].str.contains(pat ='0,01000')]\n",
    "df3 = df[df['DBSNP_FREQ_ALT'].str.contains(pat ='0,00')]\n",
    "\n",
    "df = df2.append(df3)\n",
    "print('There are', len(df.index), 'rows left at this step.')\n",
    "df.head()\n",
    "#df.to_csv(\"df.csv\")"
   ]
  },
  {
   "cell_type": "code",
   "execution_count": 4,
   "metadata": {},
   "outputs": [
    {
     "name": "stdout",
     "output_type": "stream",
     "text": [
      "There are 2727 rows left at this step.\n"
     ]
    }
   ],
   "source": [
    "# STEP 1.5: filter out non autosomal chromosomes (meaning X and Y)\n",
    "# normall I'd have done this as the first or second step in order to disregard as many non fitting variants as possible, \n",
    "# but I figured since our numbers after each step are compared I would leave it until the end.\n",
    "df = df[df['CHROMOSOME'] != 'chrX']\n",
    "df = df[df['CHROMOSOME'] != 'chrY']\n",
    "print('There are', len(df.index), 'rows left at this step.')\n",
    "df.to_csv(\"ddd.csv\")"
   ]
  },
  {
   "cell_type": "code",
   "execution_count": 5,
   "metadata": {},
   "outputs": [
    {
     "name": "stdout",
     "output_type": "stream",
     "text": [
      "There are 1479 rows left at this step.\n"
     ]
    }
   ],
   "source": [
    "# STEP 2: filter out rows with wrong location\n",
    "df2 = df[(df['REFGENE_LOC'].str.contains(pat ='exonic'))]\n",
    "df4 = df[df['REFGENE_LOC'].str.contains(r'(?:\\s|^)intronic-splice(?:\\s|$)')]\n",
    "df5 = df[df['REFGENE_LOC'].str.contains(r'(?:\\s|^)exonic-splice(?:\\s|$)')]\n",
    "df = df2.append(df4)\n",
    "df = df.append(df5)\n",
    "\n",
    "print('There are', len(df.index), 'rows left at this step.')"
   ]
  },
  {
   "cell_type": "code",
   "execution_count": 6,
   "metadata": {},
   "outputs": [
    {
     "name": "stdout",
     "output_type": "stream",
     "text": [
      "There are 854 rows left at this step.\n"
     ]
    }
   ],
   "source": [
    "# STEP 3: filter out rows that do not affect proteins (frameshift (= I and D, meaning insertion and deletion) \n",
    "# or don't create new protein (= where last column not empty))\n",
    "df = df[(df['TYPE'] == 'I') | (df['TYPE'] == 'D') | ((df['TYPE'] == 'V') & (df['DBNSFP_ENSEMBL_PROTEIN'].notna()))]\n",
    "print('There are', len(df.index), 'rows left at this step.')"
   ]
  },
  {
   "cell_type": "code",
   "execution_count": 7,
   "metadata": {},
   "outputs": [
    {
     "name": "stdout",
     "output_type": "stream",
     "text": [
      "There are 181 rows left at this step.\n",
      "There are 167 rows left at this step.\n"
     ]
    }
   ],
   "source": [
    "# STEP 4: homozygous vs heterozygous\n",
    "dfHetero = df[df['ZYGOSITY'] != 'homozygous alt1']\n",
    "dfHomo = df[df['ZYGOSITY'] == 'homozygous alt1']\n",
    "\n",
    "dfHetero = dfHetero[dfHetero.duplicated(subset=['REFGENE_GENE'], keep=False)]\n",
    "df = dfHomo.append(dfHetero)\n",
    "print('There are', len(df.index), 'rows left at this step.')\n",
    "\n",
    "# kick out same ones:\n",
    "df = df.drop_duplicates()\n",
    "print('There are', len(df.index), 'rows left at this step.')\n",
    "\n",
    "df.to_csv(\"HomoHeteroNew2.csv\")"
   ]
  },
  {
   "cell_type": "markdown",
   "metadata": {},
   "source": [
    "While the previous steps concerned the variant, the next steps involve the gene. These were done manually."
   ]
  }
 ],
 "metadata": {
  "kernelspec": {
   "display_name": "Python 3",
   "language": "python",
   "name": "python3"
  },
  "language_info": {
   "codemirror_mode": {
    "name": "ipython",
    "version": 3
   },
   "file_extension": ".py",
   "mimetype": "text/x-python",
   "name": "python",
   "nbconvert_exporter": "python",
   "pygments_lexer": "ipython3",
   "version": "3.7.4"
  }
 },
 "nbformat": 4,
 "nbformat_minor": 2
}

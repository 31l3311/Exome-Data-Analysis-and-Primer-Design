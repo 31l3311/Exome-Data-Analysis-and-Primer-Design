{
 "cells": [
  {
   "cell_type": "code",
   "execution_count": 1,
   "metadata": {},
   "outputs": [],
   "source": [
    "import numpy as np\n",
    "import matplotlib.pyplot as plt\n",
    "import pandas as pd, sys\n",
    "import seaborn as sns"
   ]
  },
  {
   "cell_type": "code",
   "execution_count": 2,
   "metadata": {},
   "outputs": [
    {
     "name": "stdout",
     "output_type": "stream",
     "text": [
      "There are 2817 rows left at this step.\n"
     ]
    }
   ],
   "source": [
    "#Read the data into a dataframe\n",
    "df = pd.read_csv(\"hopefullylasttry.csv\", delimiter=';')\n",
    "print('There are', len(df.index), 'rows left at this step.')"
   ]
  },
  {
   "cell_type": "markdown",
   "metadata": {},
   "source": [
    "Step 1:\n",
    "df4 = df[df['DBSNP_FREQ_ALT'].isnull()]\n",
    "df = df.dropna(subset=['DBSNP_FREQ_ALT'])\n",
    "df2 = df[df['DBSNP_FREQ_ALT'].str.contains(pat ='0,01000')]\n",
    "df3 = df[df['DBSNP_FREQ_ALT'].str.contains(pat ='0,00')]\n",
    "\n",
    "dfnew = df2.append(df3)\n",
    "dfnew = dfnew.append(df4)\n",
    "print('There are', len(dfnew.index), 'rows left at this step.')\n",
    "df = dfnew\n",
    "dfnew\n",
    "dfnew.to_csv(\"dfnew.csv\")"
   ]
  },
  {
   "cell_type": "code",
   "execution_count": 3,
   "metadata": {},
   "outputs": [
    {
     "name": "stdout",
     "output_type": "stream",
     "text": [
      "There are 2755 rows left at this step.\n"
     ]
    }
   ],
   "source": [
    "# STEP 1.5: filter out non autosomal chromosomes (meaning X and Y)\n",
    "# normall I'd have done this as the first or second step in order to disregard as many non fitting variants as possible, \n",
    "# but I figured since our numbers after each step are compared I would leave it until the end.\n",
    "df = df[df['CHROMOSOME'] != 'chrX']\n",
    "df = df[df['CHROMOSOME'] != 'chrY']\n",
    "print('There are', len(df.index), 'rows left at this step.')\n",
    "df.to_csv(\"ddd.csv\")"
   ]
  },
  {
   "cell_type": "code",
   "execution_count": 4,
   "metadata": {},
   "outputs": [
    {
     "name": "stdout",
     "output_type": "stream",
     "text": [
      "There are 1494 rows left at this step.\n"
     ]
    }
   ],
   "source": [
    "# STEP 2: filter out rows with correct location\n",
    "df2 = df[(df['REFGENE_LOC'].str.contains(pat ='exonic'))]\n",
    "df4 = df[df['REFGENE_LOC'].str.contains(r'(?:\\s|^)intronic-splice(?:\\s|$)')]\n",
    "df5 = df[df['REFGENE_LOC'].str.contains(r'(?:\\s|^)exonic-splice(?:\\s|$)')]\n",
    "df = df2.append(df4)\n",
    "df = df.append(df5)\n",
    "\n",
    "print('There are', len(df.index), 'rows left at this step.')"
   ]
  },
  {
   "cell_type": "code",
   "execution_count": 5,
   "metadata": {},
   "outputs": [
    {
     "name": "stdout",
     "output_type": "stream",
     "text": [
      "There are 862 rows left at this step.\n"
     ]
    }
   ],
   "source": [
    "# STEP 3: filter out rows that affect proteins (frameshift (= I or D) or don't create new protein \n",
    "# (= where last column not empty))\n",
    "df = df[(df['TYPE'] == 'I') | (df['TYPE'] == 'D') | ((df['TYPE'] == 'V') & (df['DBNSFP_ENSEMBL_PROTEIN'].notna()))]\n",
    "print('There are', len(df.index), 'rows left at this step.')"
   ]
  },
  {
   "cell_type": "code",
   "execution_count": 6,
   "metadata": {},
   "outputs": [
    {
     "name": "stdout",
     "output_type": "stream",
     "text": [
      "There are 186 rows left at this step.\n",
      "There are 172 rows left at this step.\n"
     ]
    }
   ],
   "source": [
    "# STEP 4: homozygous vs heterozygous\n",
    "dfHetero = df[df['ZYGOSITY'] != 'homozygous alt1']\n",
    "dfHomo = df[df['ZYGOSITY'] == 'homozygous alt1']\n",
    "\n",
    "dfHetero = dfHetero[dfHetero.duplicated(subset=['REFGENE_GENE'], keep=False)]\n",
    "df = dfHomo.append(dfHetero)\n",
    "print('There are', len(df.index), 'rows left at this step.')\n",
    "\n",
    "# kick out same ones:\n",
    "df = df.drop_duplicates()\n",
    "print('There are', len(df.index), 'rows left at this step.')\n",
    "\n",
    "df.to_csv(\"HomoHeteroNew2.csv\")"
   ]
  },
  {
   "cell_type": "code",
   "execution_count": null,
   "metadata": {},
   "outputs": [],
   "source": []
  }
 ],
 "metadata": {
  "kernelspec": {
   "display_name": "Python 3",
   "language": "python",
   "name": "python3"
  },
  "language_info": {
   "codemirror_mode": {
    "name": "ipython",
    "version": 3
   },
   "file_extension": ".py",
   "mimetype": "text/x-python",
   "name": "python",
   "nbconvert_exporter": "python",
   "pygments_lexer": "ipython3",
   "version": "3.7.4"
  }
 },
 "nbformat": 4,
 "nbformat_minor": 2
}
